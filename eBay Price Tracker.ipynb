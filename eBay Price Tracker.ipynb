{
 "cells": [
  {
   "cell_type": "code",
   "execution_count": 1,
   "id": "1010b4ba",
   "metadata": {},
   "outputs": [],
   "source": [
    "import requests\n",
    "from bs4 import BeautifulSoup"
   ]
  },
  {
   "cell_type": "code",
   "execution_count": 2,
   "id": "7679d103",
   "metadata": {},
   "outputs": [
    {
     "name": "stdout",
     "output_type": "stream",
     "text": [
      "<Response [200]>\n"
     ]
    }
   ],
   "source": [
    "url = \"https://www.ebay.com/itm/186046920754?epid=20056257925&itmmeta=01J3GA6AZPCGSXE95NCBGRG9JZ&hash=item2b5142b832:g:R6oAAOSww6tmdb50&itmprp=enc%3AAQAJAAAA4MEDwh8JjsjCgAIvkTvz%2FZ772G2VkLIV6HnX9BqNrOJvVqQl7348ytEVchrnnbwjBLivECp21LMkKrq7WSqMNiM2oZf%2Bv8H7KhOimHJNNfiEORy7Zw8q8JkLIwhjqgxr8VmOPqEqOGLe0QU%2FYnp%2F7crf50q8B3Gij6wdG6fw6CUZDMkYDlfCtOO250qLlocTHZHHRmKRndZC6r5d8cLaO3t8RvCeo4TudnAsdhrUspcvSXgzmHtKz3osqu6lE314N3qCZX4ilDJhInua%2FC9jq76MlReWErr1u%2FXMOCqmCwoy%7Ctkp%3ABFBM9q-Zipxk\"\n",
    "res = requests.get(url)\n",
    "print(res)"
   ]
  },
  {
   "cell_type": "code",
   "execution_count": 3,
   "id": "fdea0ba1",
   "metadata": {},
   "outputs": [
    {
     "name": "stdout",
     "output_type": "stream",
     "text": [
      "US $619.99\n"
     ]
    }
   ],
   "source": [
    "soup = BeautifulSoup(res.text, \"lxml\")\n",
    "unedited = soup.select(\".x-price-primary > .ux-textspans\")\n",
    "UneditedPrice = unedited[0]\n",
    "UneditedPrice = str(UneditedPrice.text)\n",
    "print(UneditedPrice)"
   ]
  },
  {
   "cell_type": "code",
   "execution_count": 4,
   "id": "4435cabc",
   "metadata": {},
   "outputs": [
    {
     "name": "stdout",
     "output_type": "stream",
     "text": [
      "619.99\n"
     ]
    }
   ],
   "source": [
    "FormattedPrice = UneditedPrice[4:]\n",
    "FormattedPrice = FormattedPrice.replace(\",\", \"\")\n",
    "ActualPrice = float(FormattedPrice)\n",
    "print(ActualPrice)"
   ]
  },
  {
   "cell_type": "code",
   "execution_count": 5,
   "id": "95cb0e61",
   "metadata": {},
   "outputs": [
    {
     "name": "stdout",
     "output_type": "stream",
     "text": [
      "The price is below your budget, go grab them\n"
     ]
    }
   ],
   "source": [
    "MyPrice = 800\n",
    "if MyPrice > ActualPrice:\n",
    "    print(\"The price is below your budget, go grab them\")"
   ]
  },
  {
   "cell_type": "code",
   "execution_count": null,
   "id": "63f1c0fa",
   "metadata": {},
   "outputs": [],
   "source": []
  }
 ],
 "metadata": {
  "kernelspec": {
   "display_name": "Python 3 (ipykernel)",
   "language": "python",
   "name": "python3"
  },
  "language_info": {
   "codemirror_mode": {
    "name": "ipython",
    "version": 3
   },
   "file_extension": ".py",
   "mimetype": "text/x-python",
   "name": "python",
   "nbconvert_exporter": "python",
   "pygments_lexer": "ipython3",
   "version": "3.9.13"
  }
 },
 "nbformat": 4,
 "nbformat_minor": 5
}
