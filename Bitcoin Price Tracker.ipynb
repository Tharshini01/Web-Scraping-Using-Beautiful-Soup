{
 "cells": [
  {
   "cell_type": "code",
   "execution_count": 1,
   "id": "25245ad5",
   "metadata": {},
   "outputs": [],
   "source": [
    "import requests\n",
    "from bs4 import BeautifulSoup"
   ]
  },
  {
   "cell_type": "code",
   "execution_count": 2,
   "id": "0834e768",
   "metadata": {},
   "outputs": [
    {
     "name": "stdout",
     "output_type": "stream",
     "text": [
      "<Response [200]>\n"
     ]
    }
   ],
   "source": [
    "url = \"https://www.binance.com/en/price/bitcoin\"\n",
    "res = requests.get(url)\n",
    "print(res)"
   ]
  },
  {
   "cell_type": "code",
   "execution_count": 3,
   "id": "f8c998e1",
   "metadata": {},
   "outputs": [],
   "source": [
    "soup = BeautifulSoup(res.text, 'lxml')"
   ]
  },
  {
   "cell_type": "code",
   "execution_count": 4,
   "id": "43a19b53",
   "metadata": {},
   "outputs": [
    {
     "name": "stdout",
     "output_type": "stream",
     "text": [
      "USD $65,853.06\n"
     ]
    }
   ],
   "source": [
    "UneditedPrice = soup.find(class_ = \"css-dbxihu\").text\n",
    "UneditedPrice = str(UneditedPrice)\n",
    "print(UneditedPrice)"
   ]
  },
  {
   "cell_type": "code",
   "execution_count": 5,
   "id": "68ca1ea9",
   "metadata": {},
   "outputs": [
    {
     "name": "stdout",
     "output_type": "stream",
     "text": [
      "65853.06\n"
     ]
    }
   ],
   "source": [
    "FormattedPrice = UneditedPrice[5:]\n",
    "FormattedPrice = FormattedPrice.replace(\",\", \"\")\n",
    "ActualPrice = float(FormattedPrice)\n",
    "print(ActualPrice)"
   ]
  },
  {
   "cell_type": "code",
   "execution_count": 6,
   "id": "175b85b9",
   "metadata": {},
   "outputs": [
    {
     "name": "stdout",
     "output_type": "stream",
     "text": [
      "Bitcoin value is Favorable\n"
     ]
    }
   ],
   "source": [
    "MyPrice = 67000\n",
    "if MyPrice >= ActualPrice:\n",
    "    print(\"Bitcoin value is Favorable\")"
   ]
  },
  {
   "cell_type": "code",
   "execution_count": null,
   "id": "6bcf52d8",
   "metadata": {},
   "outputs": [],
   "source": []
  }
 ],
 "metadata": {
  "kernelspec": {
   "display_name": "Python 3 (ipykernel)",
   "language": "python",
   "name": "python3"
  },
  "language_info": {
   "codemirror_mode": {
    "name": "ipython",
    "version": 3
   },
   "file_extension": ".py",
   "mimetype": "text/x-python",
   "name": "python",
   "nbconvert_exporter": "python",
   "pygments_lexer": "ipython3",
   "version": "3.9.13"
  }
 },
 "nbformat": 4,
 "nbformat_minor": 5
}
